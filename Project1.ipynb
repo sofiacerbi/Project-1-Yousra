{
 "cells": [
  {
   "cell_type": "markdown",
   "metadata": {
    "id": "NQZolfQ7Dus6"
   },
   "source": [
    "# Project 1: Driving Accidents and Drivers' Ages (Work in Groups) #\n",
    "\n",
    "The government is considering to introduce new policies for young drivers (passenger restrictions, night driving restrictions, etc) in order to reduce the number of accidents produced by young drivers. A crucial point in the debate is to have some rigid information about whether the younger age is actually correlated with a higher accident rate. Therefore, they are interested to study such statistics from countries where driving is permitted from a young age and produce data that they can present to the debate.\n",
    "\n",
    "You have been tasked to look into the above matter, and after searching open government data you find the following data that relate the driving age with accidents (fatal accidents, or any type of accidents). The data date back in 1998, but are considered representative.\n",
    "\n",
    "This is what you data looks like:\n",
    "\n",
    "|Age group              |Age min|Age max  |Drivers licensed | Fatal accidents | All accidents |\n",
    "|:--------------------- |:-----:|:-------:|:---------------:|:---------------:|:-------------:|\n",
    "|Under 16 years old     |-      | 15      | 31000           | 500             | 120000        |\n",
    "|16 years old           |16     | 16      | 1708000         | 1200            | 620000        |\n",
    "|17 years old           |17     | 17      | 2436000         | 1200            | 720000        |\n",
    "|18 years old           |18     | 18      | 2868000         | 1900            | 780000        |\n",
    "|19 years old           |19     | 19      | 2941000         | 1600            | 700000        |\n",
    "|19 years old and under |-      | 19      | 9984000         | 6400            | 2940000       |\n",
    "|. |. |. |. |. |. |\n",
    "|20 years old           |20     | 20      | 3048000         | 1500            | 630000        |\n",
    "|21 years old           |21     | 21      | 3093000         | 1500            | 600000        |\n",
    "|22 years old           |22     | 22      | 3022000         | 1500            | 550000        |\n",
    "|23 years old           |23     | 23      | 3209000         | 1300            | 520000        |\n",
    "|24 years old           |24     | 24      | 3157000         | 1300            | 500000        |\n",
    "|. |. |. |. |. |. |\n",
    "|20 to 24 years old     |20     | 24      | 15529000        | 7100            | 2800000       |\n",
    "|25 to 34 years old     |25     | 34      | 37265000        | 11900           | 4900000       |\n",
    "|35 to 44 years old     |35     | 44      | 41857000        | 11300           | 4440000       |\n",
    "|45 to 54 years old     |45     | 54      | 33662000        | 7700            | 2940000       |\n",
    "|55 to 64 years old     |55     | 64      | 21337000        | 4600            | 1570000       |\n",
    "|65 to 74 years old     |65     | 74      | 15244000        | 3600            | 1010000       |\n",
    "|75 years old and over  |75     | -       | 10570000        | 3500            | 710000        |\n",
    "\n",
    "*Source: National Safety Council, USA.*\n",
    "\n",
    "We will follow the OSEMN approach as introduced in Lecture 1:\n",
    "\n",
    "* **O**btain data of good quality\n",
    "* **S**crub - examine, clean and complete the data\n",
    "* **E**xplore - Understand what kind of patterns are there in the data\n",
    "* **M**odel - Create predictive models from the data\n",
    "* i**N**terpret - Present and explain your findings\n",
    "\n",
    "Go through the notebook and respond to all the questions."
   ]
  },
  {
   "cell_type": "markdown",
   "metadata": {
    "id": "l8Kf-LJtDutO"
   },
   "source": [
    "## Import Data\n",
    "\n",
    "Our data is given in a CSV file, so we will use the `pandas.read_csv()` function to import all data as a list of dictionaries into a data frame."
   ]
  },
  {
   "cell_type": "code",
   "execution_count": 1,
   "metadata": {
    "id": "PB-pmu2WDutY"
   },
   "outputs": [
    {
     "name": "stdout",
     "output_type": "stream",
     "text": [
      "                 Age group  Age min  Age max  Drivers licensed  Fatal accidents  All accidents\n",
      "0       Under 16 years old      0.0     15.0             31000              500         120000\n",
      "1             16 years old     16.0     16.0           1708000             1200         620000\n",
      "2             17 years old     17.0     17.0           2436000             1200         720000\n",
      "3             18 years old     18.0     18.0           2868000             1900         780000\n",
      "4             19 years old     19.0     19.0           2941000             1600         700000\n",
      "5   19 years old and under      0.0     19.0           9984000             6400        2940000\n",
      "6             20 years old     20.0     20.0           3048000             1500         630000\n",
      "7             21 years old     21.0     21.0           3093000             1500         600000\n",
      "8             22 years old     22.0     22.0           3022000             1500         550000\n",
      "9             23 years old     23.0     23.0           3209000             1300         520000\n",
      "10            24 years old     24.0     24.0           3157000             1300         500000\n",
      "11      20 to 24 years old     20.0     24.0          15529000             7100        2800000\n",
      "12      25 to 34 years old     25.0     34.0          37265000            11900        4900000\n",
      "13      35 to 44 years old     35.0     44.0          41857000            11300        4440000\n",
      "14      45 to 54 years old     45.0     54.0          33662000             7700        2940000\n",
      "15      55 to 64 years old     55.0     64.0          21337000             4600        1570000\n",
      "16      65 to 74 years old     65.0     74.0          15244000             3600        1010000\n",
      "17   75 years old and over     75.0      0.0          10570000             3500         710000\n"
     ]
    }
   ],
   "source": [
    "import pandas as pd\n",
    "import matplotlib.pyplot as plt\n",
    "from scipy.interpolate import make_interp_spline, BSpline\n",
    "\n",
    "#Abrir el archivo con los datos\n",
    "data = pd.read_csv(\"Data.csv\")\n",
    "data.fillna(0, inplace = True)\n",
    "\n",
    "#imprimir datos originales\n",
    "print(data.to_string())"
   ]
  },
  {
   "cell_type": "markdown",
   "metadata": {
    "id": "pbFwR2_rDuta"
   },
   "source": [
    "### Question 1\n",
    "\n",
    "<font color=\"blue\">Observe that there are some values missing in the \"Age min\" and \"Age max\" series. These missing values can potentially create problems. Decide what you want to do with these values. For example you could use domain knowledge to fill in the values with an realistic estimate, or discard whole rows of your data... Justify your choices. Remember that the younger ages are important, so you should be careful not to discard information that might potentially be useful.</font>"
   ]
  },
  {
   "cell_type": "code",
   "execution_count": 2,
   "metadata": {
    "colab": {
     "base_uri": "https://localhost:8080/"
    },
    "id": "fyC1kGWuDutb",
    "outputId": "326bfdf2-e006-4c0a-d9d5-7b50d2036017"
   },
   "outputs": [
    {
     "name": "stdout",
     "output_type": "stream",
     "text": [
      "                 Age group  Age min  Age max  Drivers licensed  Fatal accidents  All accidents\n",
      "0             15 years old       15       15             31000              500         120000\n",
      "1             16 years old       16       16           1708000             1200         620000\n",
      "2             17 years old       17       17           2436000             1200         720000\n",
      "3             18 years old       18       18           2868000             1900         780000\n",
      "4             19 years old       19       19           2941000             1600         700000\n",
      "5   19 years old and under       15       19           9984000             6400        2940000\n",
      "6             20 years old       20       20           3048000             1500         630000\n",
      "7             21 years old       21       21           3093000             1500         600000\n",
      "8             22 years old       22       22           3022000             1500         550000\n",
      "9             23 years old       23       23           3209000             1300         520000\n",
      "10            24 years old       24       24           3157000             1300         500000\n",
      "11      20 to 24 years old       20       24          15529000             7100        2800000\n",
      "12      25 to 34 years old       25       34          37265000            11900        4900000\n",
      "13      35 to 44 years old       35       44          41857000            11300        4440000\n",
      "14      45 to 54 years old       45       54          33662000             7700        2940000\n",
      "15      55 to 64 years old       55       64          21337000             4600        1570000\n",
      "16      65 to 74 years old       65       74          15244000             3600        1010000\n",
      "17      75 to 84 years old       75       84          10570000             3500         710000\n"
     ]
    }
   ],
   "source": [
    "# Your Code Here\n",
    "#Índices en los que hay datos faltantes para las columnas Age min y Age max\n",
    "index_min = data[data['Age min']==0].index.values\n",
    "index_max = data[data['Age max']==0].index.values\n",
    "\n",
    "#Si sí hay datos faltantes entonces se pueden agregar\n",
    "if index_min.size:\n",
    "    data.loc[index_min[0], 'Age min'] = '15'\n",
    "    data.loc[index_min[1], 'Age min'] = '15'\n",
    "    data.loc[index_min[0], 'Age group'] = '15 years old'\n",
    "if index_max.size:\n",
    "    data.loc[index_max[0], 'Age max'] = '84'\n",
    "    data.loc[index_max[0], 'Age group'] = '75 to 84 years old'\n",
    "\n",
    "#Se trasforman los datos en números enteros\n",
    "data['Age min'] = data['Age min'].astype(int)\n",
    "data['Age max'] = data['Age max'].astype(int)\n",
    "data['Drivers licensed'] = data['Drivers licensed'].astype(int)\n",
    "data['Fatal accidents'] = data['Fatal accidents'].astype(int)\n",
    "data['All accidents'] = data['All accidents'].astype(int)\n",
    "\n",
    "#imprimir respuesta\n",
    "print(data.to_string())"
   ]
  },
  {
   "cell_type": "markdown",
   "metadata": {
    "id": "b6pqgTQ8Dute"
   },
   "source": [
    "### Question 2\n",
    "\n",
    "<font color=\"blue\">Use the \"average age\" to represent each of the age groups. E.g. the age group of \"20 to 24 years old\" could be represented by their average age of 22.</font>"
   ]
  },
  {
   "cell_type": "code",
   "execution_count": 3,
   "metadata": {
    "colab": {
     "base_uri": "https://localhost:8080/"
    },
    "id": "V5L6WQD2Dutf",
    "outputId": "ac0838c5-46ba-427b-edbc-f78cfb69b9ec"
   },
   "outputs": [
    {
     "name": "stdout",
     "output_type": "stream",
     "text": [
      "                 Age group  Age min  Age max  Average age  Drivers licensed  Fatal accidents  All accidents\n",
      "0             15 years old       15       15         15.0             31000              500         120000\n",
      "1             16 years old       16       16         16.0           1708000             1200         620000\n",
      "2             17 years old       17       17         17.0           2436000             1200         720000\n",
      "3             18 years old       18       18         18.0           2868000             1900         780000\n",
      "4             19 years old       19       19         19.0           2941000             1600         700000\n",
      "5   19 years old and under       15       19         17.0           9984000             6400        2940000\n",
      "6             20 years old       20       20         20.0           3048000             1500         630000\n",
      "7             21 years old       21       21         21.0           3093000             1500         600000\n",
      "8             22 years old       22       22         22.0           3022000             1500         550000\n",
      "9             23 years old       23       23         23.0           3209000             1300         520000\n",
      "10            24 years old       24       24         24.0           3157000             1300         500000\n",
      "11      20 to 24 years old       20       24         22.0          15529000             7100        2800000\n",
      "12      25 to 34 years old       25       34         29.5          37265000            11900        4900000\n",
      "13      35 to 44 years old       35       44         39.5          41857000            11300        4440000\n",
      "14      45 to 54 years old       45       54         49.5          33662000             7700        2940000\n",
      "15      55 to 64 years old       55       64         59.5          21337000             4600        1570000\n",
      "16      65 to 74 years old       65       74         69.5          15244000             3600        1010000\n",
      "17      75 to 84 years old       75       84         79.5          10570000             3500         710000\n"
     ]
    }
   ],
   "source": [
    "# Your Code Here\n",
    "#Agregar columna con promedios para cada grupo\n",
    "promedios = []\n",
    "\n",
    "#Se itera sobre cada rango de edad  y se saca el promedio\n",
    "for indx in range(0,data['Age group'].size): \n",
    "    avg = (data['Age min'][indx] + data['Age max'][indx])/2 #Cálculo del promedio\n",
    "    promedios.append(avg) #Agrega el valor a \"promedios\"\n",
    "\n",
    "data.insert(3, 'Average age', promedios) #añade la columna completa en la tabla\n",
    "\n",
    "#imprimir respuesta\n",
    "print(data.to_string())"
   ]
  },
  {
   "cell_type": "markdown",
   "metadata": {
    "id": "n2mDALvcDutg"
   },
   "source": [
    "### Question 3\n",
    "\n",
    "<font color=\"blue\">Select the age groups that you will use for the rest of the analysis, and remove the rest from your dataset. You would want to make sure that you do not have repeated information, and that you do not discard any potentially useful data. Justify your choices.</font>"
   ]
  },
  {
   "cell_type": "code",
   "execution_count": 4,
   "metadata": {
    "colab": {
     "base_uri": "https://localhost:8080/"
    },
    "id": "a2swlH7dDuth",
    "outputId": "552a4301-0c7f-41a4-d2f5-35acdb38c0b0"
   },
   "outputs": [
    {
     "name": "stdout",
     "output_type": "stream",
     "text": [
      "            Age group  Age min  Age max  Average age  Drivers licensed  Fatal accidents  All accidents\n",
      "0  15 to 24 years old       15       24         19.5          25513000            13500        5740000\n",
      "1  25 to 34 years old       25       34         29.5          37265000            11900        4900000\n",
      "2  35 to 44 years old       35       44         39.5          41857000            11300        4440000\n",
      "3  45 to 54 years old       45       54         49.5          33662000             7700        2940000\n",
      "4  55 to 64 years old       55       64         59.5          21337000             4600        1570000\n",
      "5  65 to 74 years old       65       74         69.5          15244000             3600        1010000\n",
      "6  75 to 84 years old       75       84         79.5          10570000             3500         710000\n"
     ]
    }
   ],
   "source": [
    "# Your Code Here\n",
    "#Se crean los grupos con rango de edades deseadas\n",
    "age_group = '15 to 24 years old'\n",
    "age_min = 15\n",
    "age_max = 24\n",
    "avg_age = (age_min + age_max)/2\n",
    "drivers_lic = 0\n",
    "fatal_acc = 0\n",
    "all_acc = 0\n",
    "\n",
    "#Se elimina la fila \"19 years old and under\" para evitar datos repetidos\n",
    "data = data.drop(5).reset_index(drop=True)\n",
    "\n",
    "#Se unifican los datos en un único rango de 15 a 24\n",
    "for indx in range(0,10):\n",
    "    drivers_lic = drivers_lic + data['Drivers licensed'][indx]\n",
    "    fatal_acc = fatal_acc + data['Fatal accidents'][indx]\n",
    "    all_acc = all_acc + data['All accidents'][indx]\n",
    "\n",
    "#Se agrega el grupo a los datos\n",
    "data.loc[0] = [age_group, age_min, age_max, avg_age,\n",
    "                         drivers_lic, fatal_acc, all_acc]\n",
    "\n",
    "#Se eliminan las filas indicadas por los índices dentro 'filas_elim'\n",
    "filas_elim = range(1,11)\n",
    "data = data.drop(filas_elim).reset_index(drop=True)\n",
    "\n",
    "#imprimir respuesta\n",
    "print(data.to_string())"
   ]
  },
  {
   "cell_type": "markdown",
   "metadata": {
    "id": "j01RkvZEDutm"
   },
   "source": [
    "### Question 4\n",
    "\n",
    "<font color=\"blue\">What percentage of accidents is each age responsible for? Make a plot of your findings and provide an interpretation. Then give an *approximate* estimation of how many Fatal accidents are caused by people aged 42 years, based on your plot.</font>"
   ]
  },
  {
   "cell_type": "code",
   "execution_count": 5,
   "metadata": {
    "colab": {
     "base_uri": "https://localhost:8080/",
     "height": 486
    },
    "id": "1QjWYC72Dutn",
    "outputId": "3d45a5b6-6b5e-47c6-fe40-cefc42a01bf5"
   },
   "outputs": [
    {
     "data": {
      "image/png": "[encoded data removed]",
      "text/plain": [
       "<Figure size 432x288 with 1 Axes>"
      ]
     },
     "metadata": {
      "needs_background": "light"
     },
     "output_type": "display_data"
    }
   ],
   "source": [
    "# Your Code Here\n",
    "#Porcentaje de accidentes por grupo\n",
    "porcentajes_tot = []\n",
    "\n",
    "for indx in range(0,data['Age group'].size):\n",
    "    perc = data['Fatal accidents'][indx]*100/data['All accidents'][indx]\n",
    "    porcentajes_tot.append(perc)\n",
    "\n",
    "data.insert(7, 'Fatality rate (%)', porcentajes_tot)\n",
    "\n",
    "#Se crea el gráfico de puntos\n",
    "f = plt.figure()\n",
    "f.set_figwidth(12)\n",
    "f.set_figheight(8)\n",
    "\n",
    "plt.plot(data['Age group'], data['Fatality rate (%)'], marker='o')\n",
    "\n",
    "plt.xticks(fontsize=10)\n",
    "plt.title(\"Percentage of fatal accidents \\n (compared to total number of accidents) \\n per age group\")\n",
    "plt.xlabel(\"Age group\")\n",
    "plt.ylabel(\"Percentage of fatal accidents (%)\")\n",
    "\n",
    "plt.show()"
   ]
  },
  {
   "cell_type": "code",
   "execution_count": 6,
   "metadata": {
    "colab": {
     "base_uri": "https://localhost:8080/",
     "height": 486
    },
    "id": "1QjWYC72Dutn",
    "outputId": "3d45a5b6-6b5e-47c6-fe40-cefc42a01bf5",
    "scrolled": true
   },
   "outputs": [
    {
     "name": "stdout",
     "output_type": "stream",
     "text": [
      "An approximate estimation of how many fatal accidents are caused by people aged 42 years, based on the plot, is: 11362 fatal accidents.\n",
      "---------------------------------------------------------------------------\n"
     ]
    }
   ],
   "source": [
    "#Interpolación de los datos\n",
    "spl = make_interp_spline(data['Average age'],data['Fatality rate (%)'], k=3)\n",
    "\n",
    "#Según el gráfico, # de accidentes fatales por personas de 42 años\n",
    "indx = int(data[data['Age group']=='35 to 44 years old'].index.values)\n",
    "fatal_42 = spl(42)*data['All accidents'][indx]/100\n",
    "\n",
    "print(\"An approximate estimation of how many fatal accidents are\",\n",
    "      \"caused by people aged 42 years, based on the plot, is:\",\n",
    "      round(fatal_42),\"fatal accidents.\")\n",
    "print('---------------------------------------------------------------------------')"
   ]
  },
  {
   "cell_type": "markdown",
   "metadata": {
    "id": "vYN6UteYDutq"
   },
   "source": [
    "### Question 5\n",
    "\n",
    "<font color=\"blue\">The numbers we have reported up to now are absolute numbers: e.g. we just reported \"all accidents produced by all people aged 42 years old\".</font>\n",
    "\n",
    "<font color=\"blue\">Observe that there is a very different number of drivers in each age group. It is not the same to produce 10 accidents between 100 licensed drivers, or 10 accidents between 1 million licensed drivers...</font>\n",
    "\n",
    "<font color=\"blue\">What if we wanted to see how many accidents a single person aged 42 is responsible for on average?</font>\n",
    "\n",
    "<font color=\"blue\">Obviously, the more licensed drivers in an age group, the more accidents will be produced. We want to see what is the effect of the **age** of the driver in the generation of accidents (not the number of drivers in an age group), so we want to remove any influence due to the size of each age group.</font>\n",
    "\n",
    "<font color=\"blue\">Calculate the average number of accidents per person for each age group.</font>"
   ]
  },
  {
   "cell_type": "code",
   "execution_count": 7,
   "metadata": {
    "colab": {
     "base_uri": "https://localhost:8080/"
    },
    "id": "UdvNp9g1Dutr",
    "outputId": "0565eadc-7e55-4b5d-d2aa-5eaf1f7d4c0c"
   },
   "outputs": [
    {
     "name": "stdout",
     "output_type": "stream",
     "text": [
      "            Age group  Age min  Age max  Average age  Drivers licensed  \\\n",
      "0  15 to 24 years old       15       24         19.5          25513000   \n",
      "1  25 to 34 years old       25       34         29.5          37265000   \n",
      "2  35 to 44 years old       35       44         39.5          41857000   \n",
      "3  45 to 54 years old       45       54         49.5          33662000   \n",
      "4  55 to 64 years old       55       64         59.5          21337000   \n",
      "5  65 to 74 years old       65       74         69.5          15244000   \n",
      "6  75 to 84 years old       75       84         79.5          10570000   \n",
      "\n",
      "   Fatal accidents  All accidents  Fatality rate (%)  Avg accidents pp  \n",
      "0            13500        5740000           0.235192          0.224983  \n",
      "1            11900        4900000           0.242857          0.131491  \n",
      "2            11300        4440000           0.254505          0.106075  \n",
      "3             7700        2940000           0.261905          0.087339  \n",
      "4             4600        1570000           0.292994          0.073581  \n",
      "5             3600        1010000           0.356436          0.066256  \n",
      "6             3500         710000           0.492958          0.067171  \n"
     ]
    }
   ],
   "source": [
    "# Your Code Here\n",
    "#Cálculo de accidentes por conductor (doble normlizacion)\n",
    "acc_person = []\n",
    "\n",
    "for indx in range(data['Age group'].size):\n",
    "    num = data['All accidents'][indx]/data['Drivers licensed'][indx]\n",
    "    acc_person.append(num)\n",
    "\n",
    "data.insert(8, 'Avg accidents pp', acc_person)"
   ]
  },
  {
   "cell_type": "markdown",
   "metadata": {
    "id": "yR61bNZiDuts"
   },
   "source": [
    "---\n",
    "\n",
    "**RESPONSE**\n",
    "\n",
    "...\n",
    "\n",
    "---"
   ]
  },
  {
   "cell_type": "markdown",
   "metadata": {
    "id": "twamFje9Dutt"
   },
   "source": [
    "### Question 6\n",
    "\n",
    "<font color=\"blue\">Now plot the relationship between the average number of accidents per person vs the representative age of the corresponding age group. What do you observe? Provide a possible explanation for any issues you spot.</font>"
   ]
  },
  {
   "cell_type": "code",
   "execution_count": 8,
   "metadata": {
    "colab": {
     "base_uri": "https://localhost:8080/",
     "height": 790
    },
    "id": "PIJngnG3Dutt",
    "outputId": "3604a2b2-798a-4d7e-c0e5-179ab42c33ff"
   },
   "outputs": [
    {
     "name": "stdout",
     "output_type": "stream",
     "text": [
      "            Age group  Age min  Age max  Average age  Drivers licensed  \\\n",
      "0  15 to 24 years old       15       24         19.5          25513000   \n",
      "1  25 to 34 years old       25       34         29.5          37265000   \n",
      "2  35 to 44 years old       35       44         39.5          41857000   \n",
      "3  45 to 54 years old       45       54         49.5          33662000   \n",
      "4  55 to 64 years old       55       64         59.5          21337000   \n",
      "5  65 to 74 years old       65       74         69.5          15244000   \n",
      "6  75 to 84 years old       75       84         79.5          10570000   \n",
      "\n",
      "   Fatal accidents  All accidents  Fatality rate (%)  Avg accidents pp  \n",
      "0            13500        5740000           0.235192          0.224983  \n",
      "1            11900        4900000           0.242857          0.131491  \n",
      "2            11300        4440000           0.254505          0.106075  \n",
      "3             7700        2940000           0.261905          0.087339  \n",
      "4             4600        1570000           0.292994          0.073581  \n",
      "5             3600        1010000           0.356436          0.066256  \n",
      "6             3500         710000           0.492958          0.067171  \n"
     ]
    },
    {
     "data": {
      "image/png": "[encoded data removed]",
      "text/plain": [
       "<Figure size 432x288 with 1 Axes>"
      ]
     },
     "metadata": {
      "needs_background": "light"
     },
     "output_type": "display_data"
    },
    {
     "data": {
      "image/png": "[encoded data removed]",
      "text/plain": [
       "<Figure size 432x288 with 1 Axes>"
      ]
     },
     "metadata": {
      "needs_background": "light"
     },
     "output_type": "display_data"
    }
   ],
   "source": [
    "# Your Code Here\n",
    "#Se crea el gráfico de barras de accidentes en promedio hay por persona en cada grupo de edad (apartado 5)\n",
    "bar_data = plt.bar(data['Average age'].astype(str), data['Avg accidents pp'])\n",
    "\n",
    "#Se define el color de las barras. Para las que sean mayores de un accidente por persona q sean en rojo \n",
    "#y las q son menos de 1 accidente, que sean verde\n",
    "for indx in range(0,data['Age group'].size):\n",
    "    if  data['Avg accidents pp'][indx]> 1:\n",
    "        bar_data[indx].set_color('lightcoral')\n",
    "    else:\n",
    "        bar_data[indx].set_color('lightgreen')\n",
    "\n",
    "plt.title(\"Average number of accidents per person \\n vs. average group age\")\n",
    "plt.xlabel(\"Average group age (years old)\")\n",
    "plt.ylabel(\"Avg number of accidents pp\")\n",
    "print(data)\n",
    "plt.show()\n",
    "\n",
    "\n",
    "#grafico puntos\n",
    "bar_data = plt.plot(data['Average age'].astype(str), data['Avg accidents pp'],'o')\n",
    "plt.title(\"Average number of accidents per person \\n vs. average group age\")\n",
    "plt.xlabel(\"Average group age (years old)\")\n",
    "plt.ylabel(\"Avg number of accidents pp\")\n",
    "\n",
    "w = [-1,800 ] # These are the parameters of the line [w0, w1]\n",
    "\n",
    "# Calculate a series of points along the line YOUSRAAAA\n",
    "\n",
    "\n",
    "#mirarlo. "
   ]
  },
  {
   "cell_type": "markdown",
   "metadata": {
    "id": "g18VmoPyDutv"
   },
   "source": [
    "---\n",
    "\n",
    "**RESPONSE**\n",
    "\n",
    "...\n",
    "\n",
    "---"
   ]
  },
  {
   "cell_type": "markdown",
   "metadata": {
    "id": "hpFPxHmyDutv"
   },
   "source": [
    "### Question 7\n",
    "\n",
    "<font color=\"blue\">Fit a model to this relationship, and predict how many accidents are people of 19 and 43 years old responsible for using your model. You will have to decide what kind of model better fits the data.</font>"
   ]
  },
  {
   "cell_type": "code",
   "execution_count": 9,
   "metadata": {
    "colab": {
     "base_uri": "https://localhost:8080/",
     "height": 548
    },
    "id": "nWQeo4EeDutw",
    "outputId": "1a8068d3-048a-4e42-f44b-b1bdc7c01ea5"
   },
   "outputs": [
    {
     "name": "stdout",
     "output_type": "stream",
     "text": [
      "According to the model used above, 19 years old people are responsible for: 0 accidents.\n",
      "---------------------------------------------------------------------------\n",
      "According to the model used above, 43 years old people are responsible for: 0 accidents.\n",
      "            Age group  Age min  Age max  Average age  Drivers licensed  \\\n",
      "0  15 to 24 years old       15       24         19.5          25513000   \n",
      "1  25 to 34 years old       25       34         29.5          37265000   \n",
      "2  35 to 44 years old       35       44         39.5          41857000   \n",
      "3  45 to 54 years old       45       54         49.5          33662000   \n",
      "4  55 to 64 years old       55       64         59.5          21337000   \n",
      "5  65 to 74 years old       65       74         69.5          15244000   \n",
      "6  75 to 84 years old       75       84         79.5          10570000   \n",
      "\n",
      "   Fatal accidents  All accidents  Fatality rate (%)  Avg accidents pp  \n",
      "0            13500        5740000           0.235192          0.224983  \n",
      "1            11900        4900000           0.242857          0.131491  \n",
      "2            11300        4440000           0.254505          0.106075  \n",
      "3             7700        2940000           0.261905          0.087339  \n",
      "4             4600        1570000           0.292994          0.073581  \n",
      "5             3600        1010000           0.356436          0.066256  \n",
      "6             3500         710000           0.492958          0.067171  \n"
     ]
    },
    {
     "data": {
      "image/png": "[encoded data removed]",
      "text/plain": [
       "<Figure size 432x288 with 1 Axes>"
      ]
     },
     "metadata": {
      "needs_background": "light"
     },
     "output_type": "display_data"
    }
   ],
   "source": [
    "# Your Code here. No sabemos como hacerlo.\n",
    "\n",
    "#Se define el modelo a utilizar. ultimas regularizacion gradndescent. pract analisis dat, modelaje \n",
    "acc_19 = 0\n",
    "acc_43 = 0\n",
    "\n",
    "#grafico puntos\n",
    "bar_data = plt.plot(data['Average age'].astype(str), data['Avg accidents pp'])\n",
    "plt.title(\"Average number of accidents per person \\n vs. average group age\")\n",
    "plt.xlabel(\"Average group age (years old)\")\n",
    "plt.ylabel(\"Avg number of accidents pp\")\n",
    "\n",
    "w = [-1,800 ] # These are the parameters of the line [w0, w1]\n",
    "\n",
    "#Predicción para las edades indicadas\n",
    "print(\"According to the model used above, 19 years old people are responsible for:\",\n",
    "      acc_19, \"accidents.\")\n",
    "print('---------------------------------------------------------------------------')\n",
    "print(\"According to the model used above, 43 years old people are responsible for:\",\n",
    "      acc_43, \"accidents.\")\n",
    "print(data)\n"
   ]
  },
  {
   "cell_type": "markdown",
   "metadata": {
    "id": "8tsuh4elDutx"
   },
   "source": [
    "---\n",
    "\n",
    "**RESPONSE**\n",
    "\n",
    "...\n",
    "\n",
    "---"
   ]
  },
  {
   "cell_type": "markdown",
   "metadata": {
    "id": "y6LPEUc-Duty"
   },
   "source": [
    "### Question 8\n",
    "\n",
    "<font color=\"blue\">Prepare a presentation with your findings, explaining your analysis, your decisions and assumptions made.</font>"
   ]
  },
  {
   "cell_type": "markdown",
   "metadata": {
    "id": "va9eDeBxDuty"
   },
   "source": [
    "**PRESENTATION EXPECTED IN SEPARATE FORMAT**"
   ]
  }
 ],
 "metadata": {
  "colab": {
   "name": "Copia de Project1-Copy1.ipynb",
   "provenance": []
  },
  "kernelspec": {
   "display_name": "Python 3",
   "language": "python",
   "name": "python3"
  },
  "language_info": {
   "codemirror_mode": {
    "name": "ipython",
    "version": 3
   },
   "file_extension": ".py",
   "mimetype": "text/x-python",
   "name": "python",
   "nbconvert_exporter": "python",
   "pygments_lexer": "ipython3",
   "version": "3.9.1"
  }
 },
 "nbformat": 4,
 "nbformat_minor": 1
}
